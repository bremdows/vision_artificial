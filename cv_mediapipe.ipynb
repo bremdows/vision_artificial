{
 "cells": [
  {
   "cell_type": "code",
   "execution_count": 2,
   "metadata": {},
   "outputs": [],
   "source": [
    "import cv2\n",
    "import mediapipe as mp"
   ]
  },
  {
   "cell_type": "markdown",
   "metadata": {},
   "source": [
    "### Detección de las manos"
   ]
  },
  {
   "cell_type": "code",
   "execution_count": 5,
   "metadata": {},
   "outputs": [
    {
     "name": "stdout",
     "output_type": "stream",
     "text": [
      "Detección de manos:  [classification {\n",
      "  index: 0\n",
      "  score: 0.9766645431518555\n",
      "  label: \"Left\"\n",
      "}\n",
      ", classification {\n",
      "  index: 1\n",
      "  score: 0.9430723190307617\n",
      "  label: \"Right\"\n",
      "}\n",
      "]\n"
     ]
    }
   ],
   "source": [
    "mp_drawing = mp.solutions.drawing_utils\n",
    "mp_heads = mp.solutions.hands\n",
    "\n",
    "with mp_heads.Hands(static_image_mode = True,\n",
    "                    max_num_hands = 2,\n",
    "                    min_detection_confidence = 0.5) as hands:\n",
    "    image = cv2.imread(\"./media/images/manos.jpg\")\n",
    "    # image = cv2.imread(\"./media/images/manos_ropa.jpg\")\n",
    "    image_rgb = cv2.cvtColor(image, cv2.COLOR_BGR2RGB)\n",
    "    results = hands.process(image_rgb)b\n",
    "    print(\"Detección de manos: \", results.multi_handedness)\n",
    "\n",
    "cv2.imshow(\"Imagen original\", image)\n",
    "cv2.imshow(\"Imagen RGB\", image_rgb)\n",
    "cv2.waitKey(0)\n",
    "cv2.destroyAllWindows()"
   ]
  },
  {
   "cell_type": "markdown",
   "metadata": {},
   "source": [
    "### Detección de los puntos\n",
    "Imprimir los puntos muestran 3 dimensiones, la tercera dimension es debido al movimiento que las imagenes pueden realizar y la profundidad o cambio que esto puede realizar"
   ]
  },
  {
   "cell_type": "code",
   "execution_count": 19,
   "metadata": {},
   "outputs": [
    {
     "name": "stdout",
     "output_type": "stream",
     "text": [
      "2\n"
     ]
    }
   ],
   "source": [
    "mp_drawing = mp.solutions.drawing_utils\n",
    "mp_heads = mp.solutions.hands\n",
    "\n",
    "with mp_heads.Hands(static_image_mode = True,\n",
    "                    max_num_hands = 2,\n",
    "                    min_detection_confidence = 0.5) as hands:\n",
    "    image = cv2.imread(\"./media/images/manos.jpg\")\n",
    "    # image = cv2.imread(\"./media/images/manos_ropa.jpg\")\n",
    "    image_rgb = cv2.cvtColor(image, cv2.COLOR_BGR2RGB)\n",
    "    results = hands.process(image_rgb)\n",
    "    if results.multi_hand_landmarks is not None :\n",
    "        print(len(results.multi_hand_landmarks))\n",
    "        for hands_landmarks in results.multi_hand_landmarks :\n",
    "            # Mostrar los puntos\n",
    "            # print(hands_landmarks) \n",
    "            # Dibujar los puntos\n",
    "            \"\"\" \n",
    "            Los colores estan en el formato BGR\n",
    "            \"\"\"\n",
    "            mp_drawing.draw_landmarks(image, hands_landmarks, \n",
    "                                      mp_heads.HAND_CONNECTIONS, \n",
    "                                      # Modificar el tamaño de los circulos\n",
    "                                      mp_drawing.DrawingSpec(color=(125, 120, 10), thickness=3, circle_radius=5), \n",
    "                                      # Modificar los conectores\n",
    "                                      mp_drawing.DrawingSpec(color=(20, 45, 10), thickness=3))\n",
    "            # mp_drawing.draw_landmarks(image_rgb, hands_landmarks, mp_heads.HAND_CONNECTIONS)\n",
    "\n",
    "cv2.imshow(\"Imagen original\", image)\n",
    "cv2.imshow(\"Imagen RGB\", image_rgb)\n",
    "cv2.waitKey(0)\n",
    "cv2.destroyAllWindows()"
   ]
  },
  {
   "cell_type": "markdown",
   "metadata": {},
   "source": [
    "### Graficando un punto especifico"
   ]
  },
  {
   "cell_type": "code",
   "execution_count": 34,
   "metadata": {},
   "outputs": [],
   "source": [
    "mp_drawing = mp.solutions.drawing_utils\n",
    "mp_heads = mp.solutions.hands\n",
    "\n",
    "with mp_heads.Hands(static_image_mode = True,\n",
    "                    max_num_hands = 2,\n",
    "                    min_detection_confidence = 0.5) as hands:\n",
    "    image = cv2.imread(\"./media/images/manos.jpg\")\n",
    "    # image = cv2.imread(\"./media/images/manos_ropa.jpg\")\n",
    "    h, w, _ = image.shape\n",
    "    image_rgb = cv2.cvtColor(image, cv2.COLOR_BGR2RGB)\n",
    "    results = hands.process(image_rgb)\n",
    "    if results.multi_hand_landmarks is not None :\n",
    "        for hands_landmarks in results.multi_hand_landmarks :\n",
    "            # Mostrar los puntos\n",
    "            # print(hands_landmarks) \n",
    "            # Convertir a coordenas de pixeles\n",
    "            x1 = int(hands_landmarks.landmark[mp_heads.HandLandmark.THUMB_TIP].x*w)\n",
    "            y1 = int(hands_landmarks.landmark[mp_heads.HandLandmark.THUMB_TIP].y*h)\n",
    "\n",
    "            x2 = int(hands_landmarks.landmark[mp_heads.HandLandmark.INDEX_FINGER_TIP].x*w)\n",
    "            y2 = int(hands_landmarks.landmark[mp_heads.HandLandmark.INDEX_FINGER_TIP].y*h)\n",
    "\n",
    "            x3 = int(hands_landmarks.landmark[mp_heads.HandLandmark.MIDDLE_FINGER_TIP].x*w)\n",
    "            y3 = int(hands_landmarks.landmark[mp_heads.HandLandmark.MIDDLE_FINGER_TIP].y*h)\n",
    "\n",
    "            x4 = int(hands_landmarks.landmark[mp_heads.HandLandmark.RING_FINGER_TIP].x*w)\n",
    "            y4 = int(hands_landmarks.landmark[mp_heads.HandLandmark.RING_FINGER_TIP].y*h)\n",
    "\n",
    "            x5 = int(hands_landmarks.landmark[mp_heads.HandLandmark.PINKY_TIP].x*w)\n",
    "            y5 = int(hands_landmarks.landmark[mp_heads.HandLandmark.PINKY_TIP].y*h)\n",
    "\n",
    "            cv2.circle(image, (x1, y1), 5, color=(0, 0, 255), thickness=5)\n",
    "            cv2.circle(image, (x2, y2), 5, color=(0, 255, 255), thickness=5)\n",
    "            cv2.circle(image, (x3, y3), 5, color=(255, 0, 255), thickness=5)\n",
    "            cv2.circle(image, (x4, y4), 5, color=(255, 0, 0), thickness=5)\n",
    "            cv2.circle(image, (x5, y5), 5, color=(255, 255, 0), thickness=5)\n",
    "            \n",
    "\n",
    "cv2.imshow(\"Imagen original\", image)\n",
    "cv2.imshow(\"Imagen RGB\", image_rgb)\n",
    "cv2.waitKey(0)\n",
    "cv2.destroyAllWindows()"
   ]
  },
  {
   "cell_type": "code",
   "execution_count": null,
   "metadata": {},
   "outputs": [],
   "source": []
  }
 ],
 "metadata": {
  "kernelspec": {
   "display_name": "vision_artificial",
   "language": "python",
   "name": "python3"
  },
  "language_info": {
   "codemirror_mode": {
    "name": "ipython",
    "version": 3
   },
   "file_extension": ".py",
   "mimetype": "text/x-python",
   "name": "python",
   "nbconvert_exporter": "python",
   "pygments_lexer": "ipython3",
   "version": "3.9.0"
  }
 },
 "nbformat": 4,
 "nbformat_minor": 2
}

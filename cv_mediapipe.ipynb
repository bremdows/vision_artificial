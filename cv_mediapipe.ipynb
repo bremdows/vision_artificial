{
 "cells": [
  {
   "cell_type": "code",
   "execution_count": 2,
   "metadata": {},
   "outputs": [],
   "source": [
    "import cv2\n",
    "import mediapipe as mp"
   ]
  },
  {
   "cell_type": "markdown",
   "metadata": {},
   "source": [
    "### Detección de las manos"
   ]
  },
  {
   "cell_type": "code",
   "execution_count": 5,
   "metadata": {},
   "outputs": [
    {
     "name": "stdout",
     "output_type": "stream",
     "text": [
      "Detección de manos:  [classification {\n",
      "  index: 0\n",
      "  score: 0.9766645431518555\n",
      "  label: \"Left\"\n",
      "}\n",
      ", classification {\n",
      "  index: 1\n",
      "  score: 0.9430723190307617\n",
      "  label: \"Right\"\n",
      "}\n",
      "]\n"
     ]
    }
   ],
   "source": [
    "mp_drawing = mp.solutions.drawing_utils\n",
    "mp_heads = mp.solutions.hands\n",
    "\n",
    "with mp_heads.Hands(static_image_mode = True,\n",
    "                    max_num_hands = 2,\n",
    "                    min_detection_confidence = 0.5) as hands:\n",
    "    image = cv2.imread(\"./media/images/manos.jpg\")\n",
    "    # image = cv2.imread(\"./media/images/manos_ropa.jpg\")\n",
    "    image_rgb = cv2.cvtColor(image, cv2.COLOR_BGR2RGB)\n",
    "    results = hands.process(image_rgb)b\n",
    "    print(\"Detección de manos: \", results.multi_handedness)\n",
    "\n",
    "cv2.imshow(\"Imagen original\", image)\n",
    "cv2.imshow(\"Imagen RGB\", image_rgb)\n",
    "cv2.waitKey(0)\n",
    "cv2.destroyAllWindows()"
   ]
  },
  {
   "cell_type": "markdown",
   "metadata": {},
   "source": [
    "### Detección de los puntos\n",
    "Imprimir los puntos muestran 3 dimensiones, la tercera dimension es debido al movimiento que las imagenes pueden realizar y la profundidad o cambio que esto puede realizar"
   ]
  },
  {
   "cell_type": "code",
   "execution_count": 12,
   "metadata": {},
   "outputs": [
    {
     "name": "stdout",
     "output_type": "stream",
     "text": [
      "2\n"
     ]
    }
   ],
   "source": [
    "mp_drawing = mp.solutions.drawing_utils\n",
    "mp_heads = mp.solutions.hands\n",
    "\n",
    "with mp_heads.Hands(static_image_mode = True,\n",
    "                    max_num_hands = 2,\n",
    "                    min_detection_confidence = 0.5) as hands:\n",
    "    # image = cv2.imread(\"./media/images/manos.jpg\")\n",
    "    image = cv2.imread(\"./media/images/manos_ropa.jpg\")\n",
    "    image_rgb = cv2.cvtColor(image, cv2.COLOR_BGR2RGB)\n",
    "    results = hands.process(image_rgb)\n",
    "    if results.multi_hand_landmarks is not None :\n",
    "        print(len(results.multi_hand_landmarks))\n",
    "        for hands_landmarks in results.multi_hand_landmarks :\n",
    "            # Mostrar los puntos\n",
    "            # print(hands_landmarks) \n",
    "            # Dibujar los puntos\n",
    "            mp_drawing.draw_landmarks(image, hands_landmarks, mp_heads.HAND_CONNECTIONS)\n",
    "            mp_drawing.draw_landmarks(image_rgb, hands_landmarks, mp_heads.HAND_CONNECTIONS)\n",
    "\n",
    "cv2.imshow(\"Imagen original\", image)\n",
    "cv2.imshow(\"Imagen RGB\", image_rgb)\n",
    "cv2.waitKey(0)\n",
    "cv2.destroyAllWindows()"
   ]
  },
  {
   "cell_type": "code",
   "execution_count": null,
   "metadata": {},
   "outputs": [],
   "source": []
  }
 ],
 "metadata": {
  "kernelspec": {
   "display_name": "vision_artificial",
   "language": "python",
   "name": "python3"
  },
  "language_info": {
   "codemirror_mode": {
    "name": "ipython",
    "version": 3
   },
   "file_extension": ".py",
   "mimetype": "text/x-python",
   "name": "python",
   "nbconvert_exporter": "python",
   "pygments_lexer": "ipython3",
   "version": "3.9.0"
  }
 },
 "nbformat": 4,
 "nbformat_minor": 2
}

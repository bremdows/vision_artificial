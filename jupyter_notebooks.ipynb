{
 "cells": [
  {
   "cell_type": "markdown",
   "id": "caaf8373-6cf0-4cc0-86ac-fcfacb5e9a67",
   "metadata": {},
   "source": [
    "## Iniciando con Visión Artificial"
   ]
  },
  {
   "cell_type": "code",
   "execution_count": 1,
   "id": "1bdb2dcc-c8db-4912-a0a2-62adeace9446",
   "metadata": {
    "tags": []
   },
   "outputs": [
    {
     "name": "stdout",
     "output_type": "stream",
     "text": [
      "Este el inicio del cambio\n"
     ]
    }
   ],
   "source": [
    "print(\"Este el inicio del cambio\")"
   ]
  }
 ],
 "metadata": {
  "kernelspec": {
   "display_name": "Python 3 (ipykernel)",
   "language": "python",
   "name": "python3"
  },
  "language_info": {
   "codemirror_mode": {
    "name": "ipython",
    "version": 3
   },
   "file_extension": ".py",
   "mimetype": "text/x-python",
   "name": "python",
   "nbconvert_exporter": "python",
   "pygments_lexer": "ipython3",
   "version": "3.11.5"
  }
 },
 "nbformat": 4,
 "nbformat_minor": 5
}
